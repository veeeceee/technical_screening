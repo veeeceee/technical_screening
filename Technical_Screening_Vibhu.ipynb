{
 "cells": [
  {
   "cell_type": "markdown",
   "metadata": {},
   "source": [
    "# Summary of Steps\n",
    "\n",
    "## Replace Single Quotes with Double Quotes in the File\n",
    "This was done using bash's sed command, replacing all __'__ with __\"__ in order to conform to standard JSON. The original file with single quotes is saved as _records.log.bak_\n",
    "\n",
    "## Read JSON String from File as Dictionaries\n",
    "The file is loaded using the json library in python. It is then converted to a list of dictionaries, each of which represents an item in the log. \n",
    "\n",
    "## Convert to DataFrame\n",
    "Then pandas' json_normalize() is applied to the list of dictionaries, normalizing each nested dictionary into a flat table. The output is a list of DataFrames, each of which contains a single order. To merge all the DataFrames into a single one, pandas' concat() is used.\n",
    "\n",
    "## Perform Unit Conversion\n",
    "In order to selectively convert all metric units to imperial units, the DataFrame method loc() is used to access the rows with metric measurements and convert them to imperial units. The imperial units indication column is then removed.\n",
    "\n",
    "## Output to CSV\n",
    "Finally, using pandas' to_csv(), the final form of the DataFrame is written to csv."
   ]
  },
  {
   "cell_type": "code",
   "execution_count": 1,
   "metadata": {},
   "outputs": [],
   "source": [
    "# Convert single quotes to double quotes (using bash's sed)\n",
    "!sed -i.bak \"s/'/\\\"/g\" records.log"
   ]
  },
  {
   "cell_type": "code",
   "execution_count": 2,
   "metadata": {},
   "outputs": [],
   "source": [
    "# import statements\n",
    "import numpy as np\n",
    "import pandas as pd\n",
    "import json "
   ]
  },
  {
   "cell_type": "code",
   "execution_count": 3,
   "metadata": {},
   "outputs": [],
   "source": [
    "# reading the data from the file \n",
    "with open('records.log') as f: \n",
    "    data = f.readlines()   "
   ]
  },
  {
   "cell_type": "code",
   "execution_count": 4,
   "metadata": {},
   "outputs": [],
   "source": [
    "# reconstructing the data as a list of dictionaries \n",
    "jsonString = json.dumps(data)\n",
    "\n",
    "stringList = json.loads(jsonString)\n",
    "dictList = [json.loads(string) for string in stringList]"
   ]
  },
  {
   "cell_type": "code",
   "execution_count": 5,
   "metadata": {},
   "outputs": [],
   "source": [
    "#flatten dictionaries and convert into dataframes\n",
    "flattenedDfList = [pd.json_normalize(dict) for dict in dictList]"
   ]
  },
  {
   "cell_type": "code",
   "execution_count": 6,
   "metadata": {},
   "outputs": [
    {
     "data": {
      "text/html": [
       "<div>\n",
       "<style scoped>\n",
       "    .dataframe tbody tr th:only-of-type {\n",
       "        vertical-align: middle;\n",
       "    }\n",
       "\n",
       "    .dataframe tbody tr th {\n",
       "        vertical-align: top;\n",
       "    }\n",
       "\n",
       "    .dataframe thead th {\n",
       "        text-align: right;\n",
       "    }\n",
       "</style>\n",
       "<table border=\"1\" class=\"dataframe\">\n",
       "  <thead>\n",
       "    <tr style=\"text-align: right;\">\n",
       "      <th></th>\n",
       "      <th>order_id</th>\n",
       "      <th>package.weight</th>\n",
       "      <th>package.volume</th>\n",
       "      <th>package.imperial_unit</th>\n",
       "    </tr>\n",
       "  </thead>\n",
       "  <tbody>\n",
       "    <tr>\n",
       "      <th>0</th>\n",
       "      <td>21000</td>\n",
       "      <td>326</td>\n",
       "      <td>62018</td>\n",
       "      <td>false</td>\n",
       "    </tr>\n",
       "    <tr>\n",
       "      <th>0</th>\n",
       "      <td>21001</td>\n",
       "      <td>460</td>\n",
       "      <td>110592</td>\n",
       "      <td>false</td>\n",
       "    </tr>\n",
       "    <tr>\n",
       "      <th>0</th>\n",
       "      <td>21002</td>\n",
       "      <td>500</td>\n",
       "      <td>1440</td>\n",
       "      <td>false</td>\n",
       "    </tr>\n",
       "    <tr>\n",
       "      <th>0</th>\n",
       "      <td>21003</td>\n",
       "      <td>260</td>\n",
       "      <td>100700</td>\n",
       "      <td>true</td>\n",
       "    </tr>\n",
       "    <tr>\n",
       "      <th>0</th>\n",
       "      <td>21004</td>\n",
       "      <td>168</td>\n",
       "      <td>20700</td>\n",
       "      <td>true</td>\n",
       "    </tr>\n",
       "    <tr>\n",
       "      <th>...</th>\n",
       "      <td>...</td>\n",
       "      <td>...</td>\n",
       "      <td>...</td>\n",
       "      <td>...</td>\n",
       "    </tr>\n",
       "    <tr>\n",
       "      <th>0</th>\n",
       "      <td>21995</td>\n",
       "      <td>19</td>\n",
       "      <td>9882</td>\n",
       "      <td>false</td>\n",
       "    </tr>\n",
       "    <tr>\n",
       "      <th>0</th>\n",
       "      <td>21996</td>\n",
       "      <td>771</td>\n",
       "      <td>254404</td>\n",
       "      <td>false</td>\n",
       "    </tr>\n",
       "    <tr>\n",
       "      <th>0</th>\n",
       "      <td>21997</td>\n",
       "      <td>70</td>\n",
       "      <td>20160</td>\n",
       "      <td>false</td>\n",
       "    </tr>\n",
       "    <tr>\n",
       "      <th>0</th>\n",
       "      <td>21998</td>\n",
       "      <td>186</td>\n",
       "      <td>103125</td>\n",
       "      <td>false</td>\n",
       "    </tr>\n",
       "    <tr>\n",
       "      <th>0</th>\n",
       "      <td>21999</td>\n",
       "      <td>45</td>\n",
       "      <td>20412</td>\n",
       "      <td>false</td>\n",
       "    </tr>\n",
       "  </tbody>\n",
       "</table>\n",
       "<p>1000 rows × 4 columns</p>\n",
       "</div>"
      ],
      "text/plain": [
       "    order_id  package.weight  package.volume package.imperial_unit\n",
       "0      21000             326           62018                 false\n",
       "0      21001             460          110592                 false\n",
       "0      21002             500            1440                 false\n",
       "0      21003             260          100700                  true\n",
       "0      21004             168           20700                  true\n",
       "..       ...             ...             ...                   ...\n",
       "0      21995              19            9882                 false\n",
       "0      21996             771          254404                 false\n",
       "0      21997              70           20160                 false\n",
       "0      21998             186          103125                 false\n",
       "0      21999              45           20412                 false\n",
       "\n",
       "[1000 rows x 4 columns]"
      ]
     },
     "execution_count": 6,
     "metadata": {},
     "output_type": "execute_result"
    }
   ],
   "source": [
    "# combine into dataframe\n",
    "df = pd.concat(flattenedDfList)\n",
    "df"
   ]
  },
  {
   "cell_type": "code",
   "execution_count": 7,
   "metadata": {},
   "outputs": [],
   "source": [
    "# convert package.imperial_unit's dtype from object to string\n",
    "df[\"package.imperial_unit\"] = df[\"package.imperial_unit\"].astype(str)"
   ]
  },
  {
   "cell_type": "code",
   "execution_count": 8,
   "metadata": {},
   "outputs": [],
   "source": [
    "# convert all metric units in dataframe to imperial\n",
    "df.loc[df[\"package.imperial_unit\"] == \"false\", \"package.weight\"] =  df.loc[df[\"package.imperial_unit\"] == \"false\", \"package.weight\"] * 2.204623\n",
    "\n",
    "df.loc[df[\"package.imperial_unit\"] == \"false\", \"package.volume\"] =  df.loc[df[\"package.imperial_unit\"] == \"false\", \"package.volume\"] * 0.0610237\n"
   ]
  },
  {
   "cell_type": "code",
   "execution_count": 9,
   "metadata": {},
   "outputs": [
    {
     "data": {
      "text/plain": [
       "0    false\n",
       "0    false\n",
       "0    false\n",
       "0     true\n",
       "0     true\n",
       "     ...  \n",
       "0    false\n",
       "0    false\n",
       "0    false\n",
       "0    false\n",
       "0    false\n",
       "Name: package.imperial_unit, Length: 1000, dtype: object"
      ]
     },
     "execution_count": 9,
     "metadata": {},
     "output_type": "execute_result"
    }
   ],
   "source": [
    "# remove imperial unit indication column\n",
    "df.pop('package.imperial_unit')"
   ]
  },
  {
   "cell_type": "code",
   "execution_count": 10,
   "metadata": {},
   "outputs": [
    {
     "data": {
      "text/html": [
       "<div>\n",
       "<style scoped>\n",
       "    .dataframe tbody tr th:only-of-type {\n",
       "        vertical-align: middle;\n",
       "    }\n",
       "\n",
       "    .dataframe tbody tr th {\n",
       "        vertical-align: top;\n",
       "    }\n",
       "\n",
       "    .dataframe thead th {\n",
       "        text-align: right;\n",
       "    }\n",
       "</style>\n",
       "<table border=\"1\" class=\"dataframe\">\n",
       "  <thead>\n",
       "    <tr style=\"text-align: right;\">\n",
       "      <th></th>\n",
       "      <th>order_id</th>\n",
       "      <th>weight (lbs)</th>\n",
       "      <th>volume (in3)</th>\n",
       "    </tr>\n",
       "  </thead>\n",
       "  <tbody>\n",
       "    <tr>\n",
       "      <th>0</th>\n",
       "      <td>21000</td>\n",
       "      <td>718.707098</td>\n",
       "      <td>3784.567827</td>\n",
       "    </tr>\n",
       "    <tr>\n",
       "      <th>0</th>\n",
       "      <td>21001</td>\n",
       "      <td>1014.126580</td>\n",
       "      <td>6748.733030</td>\n",
       "    </tr>\n",
       "    <tr>\n",
       "      <th>0</th>\n",
       "      <td>21002</td>\n",
       "      <td>1102.311500</td>\n",
       "      <td>87.874128</td>\n",
       "    </tr>\n",
       "    <tr>\n",
       "      <th>0</th>\n",
       "      <td>21003</td>\n",
       "      <td>260.000000</td>\n",
       "      <td>100700.000000</td>\n",
       "    </tr>\n",
       "    <tr>\n",
       "      <th>0</th>\n",
       "      <td>21004</td>\n",
       "      <td>168.000000</td>\n",
       "      <td>20700.000000</td>\n",
       "    </tr>\n",
       "    <tr>\n",
       "      <th>...</th>\n",
       "      <td>...</td>\n",
       "      <td>...</td>\n",
       "      <td>...</td>\n",
       "    </tr>\n",
       "    <tr>\n",
       "      <th>0</th>\n",
       "      <td>21995</td>\n",
       "      <td>41.887837</td>\n",
       "      <td>603.036203</td>\n",
       "    </tr>\n",
       "    <tr>\n",
       "      <th>0</th>\n",
       "      <td>21996</td>\n",
       "      <td>1699.764333</td>\n",
       "      <td>15524.673375</td>\n",
       "    </tr>\n",
       "    <tr>\n",
       "      <th>0</th>\n",
       "      <td>21997</td>\n",
       "      <td>154.323610</td>\n",
       "      <td>1230.237792</td>\n",
       "    </tr>\n",
       "    <tr>\n",
       "      <th>0</th>\n",
       "      <td>21998</td>\n",
       "      <td>410.059878</td>\n",
       "      <td>6293.069062</td>\n",
       "    </tr>\n",
       "    <tr>\n",
       "      <th>0</th>\n",
       "      <td>21999</td>\n",
       "      <td>99.208035</td>\n",
       "      <td>1245.615764</td>\n",
       "    </tr>\n",
       "  </tbody>\n",
       "</table>\n",
       "<p>1000 rows × 3 columns</p>\n",
       "</div>"
      ],
      "text/plain": [
       "    order_id  weight (lbs)   volume (in3)\n",
       "0      21000    718.707098    3784.567827\n",
       "0      21001   1014.126580    6748.733030\n",
       "0      21002   1102.311500      87.874128\n",
       "0      21003    260.000000  100700.000000\n",
       "0      21004    168.000000   20700.000000\n",
       "..       ...           ...            ...\n",
       "0      21995     41.887837     603.036203\n",
       "0      21996   1699.764333   15524.673375\n",
       "0      21997    154.323610    1230.237792\n",
       "0      21998    410.059878    6293.069062\n",
       "0      21999     99.208035    1245.615764\n",
       "\n",
       "[1000 rows x 3 columns]"
      ]
     },
     "execution_count": 10,
     "metadata": {},
     "output_type": "execute_result"
    }
   ],
   "source": [
    "# rename columns to match desired output\n",
    "df.columns = ['order_id', 'weight (lbs)', 'volume (in3)']\n",
    "df"
   ]
  },
  {
   "cell_type": "code",
   "execution_count": 11,
   "metadata": {},
   "outputs": [],
   "source": [
    "# write to csv, removing the index\n",
    "df.to_csv('records.csv', index = False)"
   ]
  }
 ],
 "metadata": {
  "kernelspec": {
   "display_name": "Python 3",
   "language": "python",
   "name": "python3"
  },
  "language_info": {
   "codemirror_mode": {
    "name": "ipython",
    "version": 3
   },
   "file_extension": ".py",
   "mimetype": "text/x-python",
   "name": "python",
   "nbconvert_exporter": "python",
   "pygments_lexer": "ipython3",
   "version": "3.7.4"
  }
 },
 "nbformat": 4,
 "nbformat_minor": 4
}
